{
 "cells": [
  {
   "cell_type": "code",
   "execution_count": 1,
   "id": "a8d2960c",
   "metadata": {},
   "outputs": [],
   "source": [
    "from opensearchpy import OpenSearch"
   ]
  },
  {
   "cell_type": "code",
   "execution_count": 2,
   "id": "5b759845",
   "metadata": {},
   "outputs": [],
   "source": [
    "client = OpenSearch(\n",
    "  hosts=[{\"host\": \"localhost\", \"port\": 9200}],\n",
    "  use_ssl=False,\n",
    "  verify_certs=False\n",
    ")"
   ]
  },
  {
   "cell_type": "code",
   "execution_count": 3,
   "id": "02f261c7",
   "metadata": {},
   "outputs": [
    {
     "name": "stdout",
     "output_type": "stream",
     "text": [
      "{'name': '711a48beb25c', 'cluster_name': 'docker-cluster', 'cluster_uuid': 'Bkgis4IwSG-_uBmt8WsGNg', 'version': {'distribution': 'opensearch', 'number': '2.19.3', 'build_type': 'tar', 'build_hash': 'a90f864b8524bc75570a8461ccb569d2a4bfed42', 'build_date': '2025-07-21T22:34:18.003652598Z', 'build_snapshot': False, 'lucene_version': '9.12.2', 'minimum_wire_compatibility_version': '7.10.0', 'minimum_index_compatibility_version': '7.0.0'}, 'tagline': 'The OpenSearch Project: https://opensearch.org/'}\n"
     ]
    }
   ],
   "source": [
    "print(client.info())"
   ]
  },
  {
   "cell_type": "code",
   "execution_count": 4,
   "id": "e0f18043",
   "metadata": {},
   "outputs": [],
   "source": [
    "\n",
    "mapping = {\n",
    "    \"mappings\": {\n",
    "        \"properties\": {\n",
    "            \"id\": {\"type\": \"integer\"},\n",
    "            \"name\": {\"type\": \"text\"},\n",
    "            \"description\": {\"type\": \"text\"},\n",
    "            \"price_cents\": {\"type\": \"integer\"},\n",
    "            \"in_stock\": {\"type\": \"boolean\"}\n",
    "        }\n",
    "    }\n",
    "}"
   ]
  },
  {
   "cell_type": "code",
   "execution_count": null,
   "id": "1b84d3de",
   "metadata": {},
   "outputs": [],
   "source": [
    "client.indices.create(index=\"products\", body=mapping)"
   ]
  },
  {
   "cell_type": "code",
   "execution_count": 6,
   "id": "5e74058c",
   "metadata": {},
   "outputs": [],
   "source": [
    "doc = {\n",
    "    \"id\": 1,\n",
    "    \"name\": \"iPhone 15 Case\",\n",
    "    \"description\": \"Protective silicone case for iPhone 15\",\n",
    "    \"price_cents\": 1999,\n",
    "    \"in_stock\": True\n",
    "}"
   ]
  },
  {
   "cell_type": "code",
   "execution_count": 7,
   "id": "da30cd57",
   "metadata": {},
   "outputs": [
    {
     "data": {
      "text/plain": [
       "{'_index': 'products',\n",
       " '_id': 'q3oZLpkBwaCXjpw4oC5X',\n",
       " '_version': 1,\n",
       " 'result': 'created',\n",
       " '_shards': {'total': 2, 'successful': 1, 'failed': 0},\n",
       " '_seq_no': 0,\n",
       " '_primary_term': 1}"
      ]
     },
     "execution_count": 7,
     "metadata": {},
     "output_type": "execute_result"
    }
   ],
   "source": [
    "client.index(index=\"products\", body=doc)"
   ]
  },
  {
   "cell_type": "code",
   "execution_count": 9,
   "id": "e99b8358",
   "metadata": {},
   "outputs": [
    {
     "data": {
      "text/plain": [
       "{'took': 4,\n",
       " 'timed_out': False,\n",
       " '_shards': {'total': 1, 'successful': 1, 'skipped': 0, 'failed': 0},\n",
       " 'hits': {'total': {'value': 1, 'relation': 'eq'},\n",
       "  'max_score': 0.2876821,\n",
       "  'hits': [{'_index': 'products',\n",
       "    '_id': 'q3oZLpkBwaCXjpw4oC5X',\n",
       "    '_score': 0.2876821,\n",
       "    '_source': {'id': 1,\n",
       "     'name': 'iPhone 15 Case',\n",
       "     'description': 'Protective silicone case for iPhone 15',\n",
       "     'price_cents': 1999,\n",
       "     'in_stock': True}}]}}"
      ]
     },
     "execution_count": 9,
     "metadata": {},
     "output_type": "execute_result"
    }
   ],
   "source": [
    "results = client.search(\n",
    "    index=\"products\",\n",
    "    body={\"query\": {\"match\": {\"name\": \"iphone\"}}}\n",
    ")\n",
    "results"
   ]
  }
 ],
 "metadata": {
  "kernelspec": {
   "display_name": ".venv (3.12.3)",
   "language": "python",
   "name": "python3"
  },
  "language_info": {
   "codemirror_mode": {
    "name": "ipython",
    "version": 3
   },
   "file_extension": ".py",
   "mimetype": "text/x-python",
   "name": "python",
   "nbconvert_exporter": "python",
   "pygments_lexer": "ipython3",
   "version": "3.12.3"
  }
 },
 "nbformat": 4,
 "nbformat_minor": 5
}
