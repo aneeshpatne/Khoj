{
 "cells": [
  {
   "cell_type": "code",
   "execution_count": 1,
   "id": "a8d2960c",
   "metadata": {},
   "outputs": [],
   "source": [
    "from opensearchpy import OpenSearch"
   ]
  },
  {
   "cell_type": "code",
   "execution_count": 2,
   "id": "5b759845",
   "metadata": {},
   "outputs": [],
   "source": [
    "client = OpenSearch(\n",
    "  hosts=[{\"host\": \"localhost\", \"port\": 9200}],\n",
    "  use_ssl=False,\n",
    "  verify_certs=False\n",
    ")"
   ]
  },
  {
   "cell_type": "code",
   "execution_count": 3,
   "id": "02f261c7",
   "metadata": {},
   "outputs": [
    {
     "name": "stdout",
     "output_type": "stream",
     "text": [
      "{'name': '711a48beb25c', 'cluster_name': 'docker-cluster', 'cluster_uuid': 'Bkgis4IwSG-_uBmt8WsGNg', 'version': {'distribution': 'opensearch', 'number': '2.19.3', 'build_type': 'tar', 'build_hash': 'a90f864b8524bc75570a8461ccb569d2a4bfed42', 'build_date': '2025-07-21T22:34:18.003652598Z', 'build_snapshot': False, 'lucene_version': '9.12.2', 'minimum_wire_compatibility_version': '7.10.0', 'minimum_index_compatibility_version': '7.0.0'}, 'tagline': 'The OpenSearch Project: https://opensearch.org/'}\n"
     ]
    }
   ],
   "source": [
    "print(client.info())"
   ]
  },
  {
   "cell_type": "code",
   "execution_count": 4,
   "id": "e0f18043",
   "metadata": {},
   "outputs": [],
   "source": [
    "\n",
    "mapping = {\n",
    "    \"mappings\": {\n",
    "        \"properties\": {\n",
    "            \"id\": {\"type\": \"integer\"},\n",
    "            \"name\": {\"type\": \"text\"},\n",
    "            \"description\": {\"type\": \"text\"},\n",
    "            \"price_cents\": {\"type\": \"integer\"},\n",
    "            \"in_stock\": {\"type\": \"boolean\"}\n",
    "        }\n",
    "    }\n",
    "}"
   ]
  },
  {
   "cell_type": "code",
   "execution_count": null,
   "id": "1b84d3de",
   "metadata": {},
   "outputs": [],
   "source": [
    "client.indices.create(index=\"products\", body=mapping)"
   ]
  },
  {
   "cell_type": "code",
   "execution_count": null,
   "id": "5e74058c",
   "metadata": {},
   "outputs": [],
   "source": [
    "doc = {\n",
    "    \"id\": 1,\n",
    "    \"name\": \"iPhone 15 Case\",\n",
    "    \"description\": \"Protective silicone case for iPhone 15\",\n",
    "    \"price_cents\": 1999,\n",
    "    \"in_stock\": True\n",
    "}"
   ]
  }
 ],
 "metadata": {
  "kernelspec": {
   "display_name": ".venv (3.12.3)",
   "language": "python",
   "name": "python3"
  },
  "language_info": {
   "codemirror_mode": {
    "name": "ipython",
    "version": 3
   },
   "file_extension": ".py",
   "mimetype": "text/x-python",
   "name": "python",
   "nbconvert_exporter": "python",
   "pygments_lexer": "ipython3",
   "version": "3.12.3"
  }
 },
 "nbformat": 4,
 "nbformat_minor": 5
}
