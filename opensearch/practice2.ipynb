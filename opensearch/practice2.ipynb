{
 "cells": [
  {
   "cell_type": "code",
   "execution_count": 1,
   "id": "e4c1ac75",
   "metadata": {},
   "outputs": [],
   "source": [
    "from opensearchpy import OpenSearch"
   ]
  },
  {
   "cell_type": "code",
   "execution_count": 2,
   "id": "61af96f7",
   "metadata": {},
   "outputs": [],
   "source": [
    "client = OpenSearch(\n",
    "  hosts=[{\"host\": \"localhost\", \"port\": 9200}],\n",
    "  use_ssl=False,\n",
    "  verify_certs=False\n",
    ")"
   ]
  },
  {
   "cell_type": "code",
   "execution_count": 3,
   "id": "6ba01a64",
   "metadata": {},
   "outputs": [
    {
     "data": {
      "text/plain": [
       "{'name': '711a48beb25c',\n",
       " 'cluster_name': 'docker-cluster',\n",
       " 'cluster_uuid': 'Bkgis4IwSG-_uBmt8WsGNg',\n",
       " 'version': {'distribution': 'opensearch',\n",
       "  'number': '2.19.3',\n",
       "  'build_type': 'tar',\n",
       "  'build_hash': 'a90f864b8524bc75570a8461ccb569d2a4bfed42',\n",
       "  'build_date': '2025-07-21T22:34:18.003652598Z',\n",
       "  'build_snapshot': False,\n",
       "  'lucene_version': '9.12.2',\n",
       "  'minimum_wire_compatibility_version': '7.10.0',\n",
       "  'minimum_index_compatibility_version': '7.0.0'},\n",
       " 'tagline': 'The OpenSearch Project: https://opensearch.org/'}"
      ]
     },
     "execution_count": 3,
     "metadata": {},
     "output_type": "execute_result"
    }
   ],
   "source": [
    "client.info()"
   ]
  },
  {
   "cell_type": "code",
   "execution_count": 10,
   "id": "4cb8990c",
   "metadata": {},
   "outputs": [],
   "source": [
    "mapping = {\n",
    "    \"mappings\" : {\n",
    "        \"properties\":{\n",
    "            \"id\": { \"type\" : \"integer\"}, \n",
    "            \"name\" : {\"type\" : \"text\" , \"fields\" : {\n",
    "                \"raw\" : {\"type\" : \"keyword\"}\n",
    "            }},\n",
    "            \"brand\" : {\"type\" : \"text\"},\n",
    "            \"price_cents\": {\"type\": \"integer\"}\n",
    "        }\n",
    "    }\n",
    "}"
   ]
  },
  {
   "cell_type": "code",
   "execution_count": 11,
   "id": "09a2d670",
   "metadata": {},
   "outputs": [
    {
     "data": {
      "text/plain": [
       "{'acknowledged': True, 'shards_acknowledged': True, 'index': 'products_test'}"
      ]
     },
     "execution_count": 11,
     "metadata": {},
     "output_type": "execute_result"
    }
   ],
   "source": [
    "client.indices.create(index=\"products_test\", body=mapping)"
   ]
  },
  {
   "cell_type": "code",
   "execution_count": 13,
   "id": "f4f237c7",
   "metadata": {},
   "outputs": [],
   "source": [
    "doc = {\n",
    "    \"name\": \"iPhone 15 Case\", \"brand\": \"Apple\", \"price_cents\": 1999,\n",
    "    \"name\": \"Wireless Mouse\", \"brand\": \"Logi\", \"price_cents\": 2999\n",
    "    }"
   ]
  },
  {
   "cell_type": "code",
   "execution_count": 14,
   "id": "b2d02c67",
   "metadata": {},
   "outputs": [
    {
     "data": {
      "text/plain": [
       "{'_index': 'products_test',\n",
       " '_id': 'rHpNLpkBwaCXjpw4US57',\n",
       " '_version': 1,\n",
       " 'result': 'created',\n",
       " '_shards': {'total': 2, 'successful': 1, 'failed': 0},\n",
       " '_seq_no': 0,\n",
       " '_primary_term': 1}"
      ]
     },
     "execution_count": 14,
     "metadata": {},
     "output_type": "execute_result"
    }
   ],
   "source": [
    "client.index(index=\"products_test\", body=doc)"
   ]
  },
  {
   "cell_type": "code",
   "execution_count": 15,
   "id": "cf645aaf",
   "metadata": {},
   "outputs": [
    {
     "data": {
      "text/plain": [
       "{'took': 12,\n",
       " 'timed_out': False,\n",
       " '_shards': {'total': 1, 'successful': 1, 'skipped': 0, 'failed': 0},\n",
       " 'hits': {'total': {'value': 1, 'relation': 'eq'},\n",
       "  'max_score': 0.2876821,\n",
       "  'hits': [{'_index': 'products',\n",
       "    '_id': 'q3oZLpkBwaCXjpw4oC5X',\n",
       "    '_score': 0.2876821,\n",
       "    '_source': {'id': 1,\n",
       "     'name': 'iPhone 15 Case',\n",
       "     'description': 'Protective silicone case for iPhone 15',\n",
       "     'price_cents': 1999,\n",
       "     'in_stock': True}}]}}"
      ]
     },
     "execution_count": 15,
     "metadata": {},
     "output_type": "execute_result"
    }
   ],
   "source": [
    "results = client.search(index=\"products\", body={\"query\": {\"match\": {\"name\": \"iphone\"}}})\n",
    "results"
   ]
  },
  {
   "cell_type": "code",
   "execution_count": 17,
   "id": "c1501b3d",
   "metadata": {},
   "outputs": [
    {
     "data": {
      "text/plain": [
       "{'took': 9,\n",
       " 'timed_out': False,\n",
       " '_shards': {'total': 1, 'successful': 1, 'skipped': 0, 'failed': 0},\n",
       " 'hits': {'total': {'value': 0, 'relation': 'eq'},\n",
       "  'max_score': None,\n",
       "  'hits': []}}"
      ]
     },
     "execution_count": 17,
     "metadata": {},
     "output_type": "execute_result"
    }
   ],
   "source": [
    "results = client.search(index=\"products\", body={\"query\": {\"term\": {\"name.raw\": \"iPhone 15 Case\"}}})\n",
    "results"
   ]
  }
 ],
 "metadata": {
  "kernelspec": {
   "display_name": ".venv (3.12.3)",
   "language": "python",
   "name": "python3"
  },
  "language_info": {
   "codemirror_mode": {
    "name": "ipython",
    "version": 3
   },
   "file_extension": ".py",
   "mimetype": "text/x-python",
   "name": "python",
   "nbconvert_exporter": "python",
   "pygments_lexer": "ipython3",
   "version": "3.12.3"
  }
 },
 "nbformat": 4,
 "nbformat_minor": 5
}
